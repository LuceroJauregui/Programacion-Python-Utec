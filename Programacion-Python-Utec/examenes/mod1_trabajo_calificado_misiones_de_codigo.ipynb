{
  "nbformat": 4,
  "nbformat_minor": 0,
  "metadata": {
    "colab": {
      "provenance": [],
      "include_colab_link": true
    },
    "kernelspec": {
      "name": "python3",
      "display_name": "Python 3"
    },
    "language_info": {
      "name": "python"
    }
  },
  "cells": [
    {
      "cell_type": "markdown",
      "metadata": {
        "id": "view-in-github",
        "colab_type": "text"
      },
      "source": [
        "<a href=\"https://colab.research.google.com/github/LuceroJauregui/Programacion-Python-Utec/blob/main/Programacion-Python-Utec/examenes/mod1_trabajo_calificado_misiones_de_codigo.ipynb\" target=\"_parent\"><img src=\"https://colab.research.google.com/assets/colab-badge.svg\" alt=\"Open In Colab\"/></a>"
      ]
    },
    {
      "cell_type": "markdown",
      "source": [
        "<img src=\"https://posgrado.utec.edu.pe/sites/default/files/2023-08/Testimonial-home-2.jpg\" alt=\"HTML5 Icon\" width=\"900\" height=\"250\" >\n"
      ],
      "metadata": {
        "id": "dYz-CyepUcRS"
      }
    },
    {
      "cell_type": "markdown",
      "source": [
        "# **Trabajo Calificado: Misiones de Código**"
      ],
      "metadata": {
        "id": "tYd6BiWgUfLo"
      }
    },
    {
      "cell_type": "markdown",
      "source": [
        "**Contexto:**\n",
        "\n",
        "Eres desarrollador de un Simulador de Aventuras llamado Pythonia, un entorno virtual de entrenamiento diseñado para mejorar tus habilidades de programación. En este simulador, enfrentarás una serie de desafíos basados en situaciones de videojuegos y escenarios de aventura, donde deberás aplicar estructuras lógicas, condicionales, bucles y funciones para resolver problemas.\n",
        "\n"
      ],
      "metadata": {
        "id": "GtjjVTFRU6W1"
      }
    },
    {
      "cell_type": "markdown",
      "source": [
        "Cada ejercicio representa un reto independiente que simula eventos comunes en el desarrollo de videojuegos, sistemas de simulación y lógica de juegos interactivos."
      ],
      "metadata": {
        "id": "Ggayz2SXVXjt"
      }
    },
    {
      "cell_type": "markdown",
      "source": [
        "**Recomendaciones:**\n",
        "\n",
        "Utilizar buenas prácticas: comentarios, entradas y salidas limpias.\n",
        "\n",
        "Uso de funciones donde sea necesario."
      ],
      "metadata": {
        "id": "eAL1_dscUjd_"
      }
    },
    {
      "cell_type": "markdown",
      "source": [
        "**Ejercicio 1: Elige tu personaje (Variables y Entrada/Salida)**\n",
        "\n",
        "Crea un programa que permita al jugador elegir su personaje entre Mago, Guerrero o Arquero. Según la elección, muestra un mensaje personalizado con las estadísticas iniciales (vida, poder, defensa)."
      ],
      "metadata": {
        "id": "YpxJc_PoVc4c"
      }
    },
    {
      "cell_type": "code",
      "source": [
        "## INICIO DE CÓDIGO\n",
        "# Programa: Elige tu personaje\n",
        "\n",
        "def mostrar_estadisticas(personaje):\n",
        "    if personaje == \"mago\":\n",
        "        vida = 70\n",
        "        poder = 100\n",
        "        defensa = 40\n",
        "    elif personaje == \"guerrero\":\n",
        "        vida = 120\n",
        "        poder = 60\n",
        "        defensa = 80\n",
        "    elif personaje == \"arquero\":\n",
        "        vida = 90\n",
        "        poder = 80\n",
        "        defensa = 60\n",
        "    else:\n",
        "        print(\"Personaje no válido.\")\n",
        "        return\n",
        "\n",
        "    # Mostrar estadísticas\n",
        "    print(f\"\\nHas elegido: {personaje.capitalize()}\")\n",
        "    print(\"Estadísticas iniciales:\")\n",
        "    print(f\"Vida: {vida}\")\n",
        "    print(f\"Poder: {poder}\")\n",
        "    print(f\"Defensa: {defensa}\")\n",
        "\n",
        "# Programa principal\n",
        "print(\"Bienvenido al simulador de aventuras - Pythonia\")\n",
        "print(\"Elige tu personaje: Mago, Guerrero o Arquero\")\n",
        "\n",
        "# Entrada del jugador\n",
        "eleccion = input(\"Ingresa el nombre de tu personaje: \").lower()\n",
        "\n",
        "# Mostrar resultado\n",
        "mostrar_estadisticas(eleccion)\n",
        "\n",
        "\n",
        "## FIN DE CÓDIGO"
      ],
      "metadata": {
        "id": "GZrzl-7wVfkW",
        "outputId": "dca48a6c-ebe0-48d8-ec64-c017645d6069",
        "colab": {
          "base_uri": "https://localhost:8080/"
        }
      },
      "execution_count": 15,
      "outputs": [
        {
          "output_type": "stream",
          "name": "stdout",
          "text": [
            "Bienvenido al simulador de aventuras - Pythonia\n",
            "Elige tu personaje: Mago, Guerrero o Arquero\n",
            "Ingresa el nombre de tu personaje: Guerrero\n",
            "\n",
            "Has elegido: Guerrero\n",
            "Estadísticas iniciales:\n",
            "Vida: 120\n",
            "Poder: 60\n",
            "Defensa: 80\n"
          ]
        }
      ]
    },
    {
      "cell_type": "markdown",
      "source": [
        "**Ejercicio 2: La prueba del sabio (Condicionales)**\n",
        "\n",
        "El sabio te hace una pregunta: si traes menos de 50 monedas de oro, te expulsará; si llevas entre 50 y 100, te permitirá pasar; si llevas más de 100, te dará una poción.\n",
        "Crea el programa que lea las monedas y muestre el resultado."
      ],
      "metadata": {
        "id": "kvoGwX-QVgPr"
      }
    },
    {
      "cell_type": "code",
      "execution_count": 17,
      "metadata": {
        "id": "3tg6KSK-UbUw",
        "outputId": "b6920580-1e25-4749-9baa-a37a67e98851",
        "colab": {
          "base_uri": "https://localhost:8080/"
        }
      },
      "outputs": [
        {
          "output_type": "stream",
          "name": "stdout",
          "text": [
            "Te encuentras frente al sabio guardián del paso sagrado.\n",
            "Él te preguntará cuántas monedas de oro llevas contigo.\n",
            "Ingresa la cantidad de monedas de oro que llevas: 200\n",
            "\n",
            "El sabio dice: Has demostrado sabiduría y riqueza. Toma esta poción mágica.\n"
          ]
        }
      ],
      "source": [
        "## INICIO DE CÓDIGO\n",
        "# Programa: La prueba del sabio\n",
        "\n",
        "def evaluar_monedas(cantidad):\n",
        "    if cantidad < 50:\n",
        "        print(\"\\nEl sabio dice: No tienes suficientes monedas. ¡Fuera de aquí!\")\n",
        "    elif 50 <= cantidad <= 100:\n",
        "        print(\"\\nEl sabio dice: Puedes pasar, aventurero.\")\n",
        "    else:  # cantidad > 100\n",
        "        print(\"\\nEl sabio dice: Has demostrado sabiduría y riqueza. Toma esta poción mágica.\")\n",
        "\n",
        "# Programa principal\n",
        "print(\"Te encuentras frente al sabio guardián del paso sagrado.\")\n",
        "print(\"Él te preguntará cuántas monedas de oro llevas contigo.\")\n",
        "\n",
        "# Entrada del usuario\n",
        "try:\n",
        "    monedas = int(input(\"Ingresa la cantidad de monedas de oro que llevas: \"))\n",
        "    evaluar_monedas(monedas)\n",
        "except ValueError:\n",
        "    print(\"Entrada inválida. Por favor, ingresa un número entero.\")\n",
        "\n",
        "## FIN DE CÓDIGO"
      ]
    },
    {
      "cell_type": "markdown",
      "source": [
        "**Ejercicio 3: El puente infinito (Bucles While)**\n",
        "\n",
        "Diseña un programa que simule el cruce de un puente que cambia su estructura aleatoriamente. El jugador debe adivinar si el siguiente paso será seguro ('s') o peligroso ('p').\n",
        "El juego termina si el jugador elige 'salir' o si falla 3 veces."
      ],
      "metadata": {
        "id": "g7B02fWhVj4M"
      }
    },
    {
      "cell_type": "code",
      "source": [
        "## INICIO DE CÓDIGO\n",
        "import random\n",
        "\n",
        "# Programa: El puente infinito\n",
        "\n",
        "def puente_infinito():\n",
        "    \"\"\"\n",
        "    Simula el cruce de un puente con pasos aleatorios seguros o peligrosos.\n",
        "    El jugador adivina el tipo de paso ('s' o 'p'). El juego termina al fallar 3 veces o al escribir 'salir'.\n",
        "    \"\"\"\n",
        "    print(\"=== EL PUENTE INFINITO ===\")\n",
        "    print(\"Adivina si el siguiente paso es seguro ('s') o peligroso ('p').\")\n",
        "    print(\"Si fallas 3 veces, caerás al abismo.\")\n",
        "    print(\"Escribe 'salir' en cualquier momento para abandonar.\\n\")\n",
        "\n",
        "    errores = 0  # Contador de errores\n",
        "\n",
        "    while errores < 3:\n",
        "        # Generar aleatoriamente el tipo de paso real\n",
        "        paso_real = random.choice(['s', 'p'])\n",
        "\n",
        "        # Entrada del jugador\n",
        "        eleccion = input(\"¿Cuál es tu elección para el siguiente paso? (s/p/salir): \").lower()\n",
        "\n",
        "        if eleccion == \"salir\":\n",
        "            print(\"\\nHas decidido retirarte del puente. ¡Hasta la próxima aventura!\")\n",
        "            break\n",
        "\n",
        "        # Validar entrada\n",
        "        if eleccion not in ['s', 'p']:\n",
        "            print(\"Entrada inválida. Por favor, ingresa 's', 'p' o 'salir'.\\n\")\n",
        "            continue\n",
        "\n",
        "        # Comparar elección del jugador con el paso real\n",
        "        if eleccion == paso_real:\n",
        "            print(\"¡Buen paso! Continúas avanzando por el puente.\\n\")\n",
        "        else:\n",
        "            errores += 1\n",
        "            print(f\"¡Peligro! Has fallado. Intentos fallidos: {errores}/3\\n\")\n",
        "\n",
        "    # Verificar si el jugador perdió\n",
        "    if errores == 3:\n",
        "        print(\"¡Has caído del puente! El juego ha terminado.\\n\")\n",
        "\n",
        "# Ejecutar el juego\n",
        "puente_infinito()\n",
        "\n",
        "## FIN DE CÓDIGO"
      ],
      "metadata": {
        "id": "9DRMWhDBVn71",
        "outputId": "ed53188e-ba42-4885-ef59-6a4ec3c4842c",
        "colab": {
          "base_uri": "https://localhost:8080/"
        }
      },
      "execution_count": 22,
      "outputs": [
        {
          "output_type": "stream",
          "name": "stdout",
          "text": [
            "=== EL PUENTE INFINITO ===\n",
            "Adivina si el siguiente paso es seguro ('s') o peligroso ('p').\n",
            "Si fallas 3 veces, caerás al abismo.\n",
            "Escribe 'salir' en cualquier momento para abandonar.\n",
            "\n",
            "¿Cuál es tu elección para el siguiente paso? (s/p/salir): s\n",
            "¡Buen paso! Continúas avanzando por el puente.\n",
            "\n",
            "¿Cuál es tu elección para el siguiente paso? (s/p/salir): p\n",
            "¡Peligro! Has fallado. Intentos fallidos: 1/3\n",
            "\n",
            "¿Cuál es tu elección para el siguiente paso? (s/p/salir): s\n",
            "¡Peligro! Has fallado. Intentos fallidos: 2/3\n",
            "\n",
            "¿Cuál es tu elección para el siguiente paso? (s/p/salir): s\n",
            "¡Peligro! Has fallado. Intentos fallidos: 3/3\n",
            "\n",
            "¡Has caído del puente! El juego ha terminado.\n",
            "\n"
          ]
        }
      ]
    },
    {
      "cell_type": "markdown",
      "source": [
        "**Ejercicio 4: El laberinto secreto (Bucle For y Range)**\n",
        "\n",
        "Crea un programa que muestre una cuenta regresiva desde 10 hasta 1 al estilo nivel de escape del laberinto. Cada número debe ir acompañado de un mensaje tipo \"Quedan X segundos para escapar\"."
      ],
      "metadata": {
        "id": "66qKXQwTVoZG"
      }
    },
    {
      "cell_type": "code",
      "source": [
        "## INICIO DE CÓDIGO\n",
        "import time  # Importar la librería para crear pausas\n",
        "\n",
        "# Programa: El laberinto secreto\n",
        "\n",
        "def cuenta_regresiva_escape():\n",
        "    \"\"\"\n",
        "    Muestra una cuenta regresiva desde 10 hasta 1 simulando\n",
        "    el escape de un laberinto. Cada número va acompañado de un mensaje\n",
        "    y se pausa 1 segundo entre cada mensaje.\n",
        "    \"\"\"\n",
        "    print(\"=== EL LABERINTO SECRETO ===\")\n",
        "    print(\"¡Tienes 10 segundos para escapar del laberinto!\\n\")\n",
        "\n",
        "    # Bucle for con cuenta regresiva y pausa de 1 segundo\n",
        "    for segundos in range(10, 0, -1):\n",
        "        print(f\"⏳ Quedan {segundos} segundos para escapar...\")\n",
        "        time.sleep(1)  # Esperar 1 segundo antes del siguiente mensaje\n",
        "\n",
        "    # Mensaje final al terminar la cuenta\n",
        "    print(\"\\n⛔ ¡Tiempo agotado! El laberinto se ha cerrado para siempre.\")\n",
        "\n",
        "# Ejecutar el programa\n",
        "cuenta_regresiva_escape()\n",
        "\n",
        "## FIN DE CÓDIGO"
      ],
      "metadata": {
        "id": "i1S9WPmhVsEj",
        "outputId": "ac34b5fe-0132-4fc3-fd40-8dd92e26af3c",
        "colab": {
          "base_uri": "https://localhost:8080/"
        }
      },
      "execution_count": 23,
      "outputs": [
        {
          "output_type": "stream",
          "name": "stdout",
          "text": [
            "=== EL LABERINTO SECRETO ===\n",
            "¡Tienes 10 segundos para escapar del laberinto!\n",
            "\n",
            "⏳ Quedan 10 segundos para escapar...\n",
            "⏳ Quedan 9 segundos para escapar...\n",
            "⏳ Quedan 8 segundos para escapar...\n",
            "⏳ Quedan 7 segundos para escapar...\n",
            "⏳ Quedan 6 segundos para escapar...\n",
            "⏳ Quedan 5 segundos para escapar...\n",
            "⏳ Quedan 4 segundos para escapar...\n",
            "⏳ Quedan 3 segundos para escapar...\n",
            "⏳ Quedan 2 segundos para escapar...\n",
            "⏳ Quedan 1 segundos para escapar...\n",
            "\n",
            "⛔ ¡Tiempo agotado! El laberinto se ha cerrado para siempre.\n"
          ]
        }
      ]
    },
    {
      "cell_type": "markdown",
      "source": [
        "**Ejercicio 5: Cofres encantados (Break y Continue)**\n",
        "\n",
        "Simula 10 cofres cerrados, pero uno de ellos es una trampa explosiva (elige aleatoriamente una posición).\n",
        "El jugador abre cofres uno por uno:\n",
        "\n",
        "* Si encuentra la trampa, termina el juego (break).\n",
        "\n",
        "* Si encuentra cofres vacíos, continúa (continue).\n",
        "\n",
        "* Si abre todos sin explotar, gana."
      ],
      "metadata": {
        "id": "5dL6C-x1VsYf"
      }
    },
    {
      "cell_type": "code",
      "source": [
        "## INICIO DE CÓDIGO\n",
        "import random\n",
        "\n",
        "def mostrar_cofres(abiertos, trampa):\n",
        "    \"\"\"\n",
        "    Muestra visualmente el estado de los cofres.\n",
        "    🔒 = cerrado, ✅ = abierto vacío, 💥 = trampa\n",
        "    \"\"\"\n",
        "    print(\"\\nEstado de los cofres:\")\n",
        "    for i in range(1, 11):\n",
        "        if i in abiertos and i == trampa:\n",
        "            print(\"💥\", end=\" \")  # Trampa\n",
        "        elif i in abiertos:\n",
        "            print(\"✅\", end=\" \")  # Cofre vacío\n",
        "        else:\n",
        "            print(\"🔒\", end=\" \")  # Cofre cerrado\n",
        "    print(\"\\n\")  # Espacio extra\n",
        "\n",
        "def pedir_cofre(abiertos):\n",
        "    \"\"\"\n",
        "    Solicita al jugador que elija un cofre válido.\n",
        "    Verifica que esté entre 1 y 10 y que no haya sido abierto.\n",
        "    \"\"\"\n",
        "    while True:\n",
        "        try:\n",
        "            eleccion = int(input(\"Elige un cofre para abrir (1-10): \"))\n",
        "\n",
        "            if eleccion < 1 or eleccion > 10:\n",
        "                print(\"⚠️ Número fuera de rango. Intenta de nuevo.\")\n",
        "                continue\n",
        "\n",
        "            if eleccion in abiertos:\n",
        "                print(\"⚠️ Ya abriste ese cofre. Elige otro.\")\n",
        "                continue\n",
        "\n",
        "            return eleccion  # Entrada válida\n",
        "\n",
        "        except ValueError:\n",
        "            print(\"⚠️ Entrada inválida. Ingresa un número entero.\")\n",
        "\n",
        "def jugar():\n",
        "    \"\"\"\n",
        "    Función principal que ejecuta el juego.\n",
        "    Maneja la lógica de cofres, trampas, entradas y resultados.\n",
        "    \"\"\"\n",
        "    trampa = random.randint(1, 10)\n",
        "    cofres_abiertos = []\n",
        "\n",
        "    print(\"🎮 Bienvenido al desafío de los Cofres Encantados 🎮\")\n",
        "    print(\"Hay 10 cofres. Uno contiene una trampa. ¡Evita explotarlo!\\n\")\n",
        "\n",
        "    while len(cofres_abiertos) < 10:\n",
        "        mostrar_cofres(cofres_abiertos, trampa)\n",
        "        eleccion = pedir_cofre(cofres_abiertos)\n",
        "        cofres_abiertos.append(eleccion)\n",
        "\n",
        "        if eleccion == trampa:\n",
        "            mostrar_cofres(cofres_abiertos, trampa)\n",
        "            print(\"💥 ¡BOOM! Abriste el cofre trampa. ¡Has perdido!\")\n",
        "            break\n",
        "        else:\n",
        "            print(\"✅ Cofre vacío. Continúa...\\n\")\n",
        "\n",
        "    else:\n",
        "        mostrar_cofres(cofres_abiertos, trampa)\n",
        "        print(\"🎉 ¡Felicidades! Abriste todos los cofres sin activar la trampa. ¡Ganaste!\")\n",
        "\n",
        "# Ejecutar el juego\n",
        "if __name__ == \"__main__\":\n",
        "    jugar()\n",
        "\n",
        "## FIN DE CÓDIGO"
      ],
      "metadata": {
        "id": "d0hcbl0_V2BI",
        "outputId": "f17ec87d-5ce5-4baa-af98-87361dcb846b",
        "colab": {
          "base_uri": "https://localhost:8080/"
        }
      },
      "execution_count": 35,
      "outputs": [
        {
          "output_type": "stream",
          "name": "stdout",
          "text": [
            "🎮 Bienvenido al desafío de los Cofres Encantados 🎮\n",
            "Hay 10 cofres. Uno contiene una trampa. ¡Evita explotarlo!\n",
            "\n",
            "\n",
            "Estado de los cofres:\n",
            "🔒 🔒 🔒 🔒 🔒 🔒 🔒 🔒 🔒 🔒 \n",
            "\n",
            "Elige un cofre para abrir (1-10): 5\n",
            "✅ Cofre vacío. Continúa...\n",
            "\n",
            "\n",
            "Estado de los cofres:\n",
            "🔒 🔒 🔒 🔒 ✅ 🔒 🔒 🔒 🔒 🔒 \n",
            "\n",
            "Elige un cofre para abrir (1-10): 3\n",
            "✅ Cofre vacío. Continúa...\n",
            "\n",
            "\n",
            "Estado de los cofres:\n",
            "🔒 🔒 ✅ 🔒 ✅ 🔒 🔒 🔒 🔒 🔒 \n",
            "\n",
            "Elige un cofre para abrir (1-10): 2\n",
            "✅ Cofre vacío. Continúa...\n",
            "\n",
            "\n",
            "Estado de los cofres:\n",
            "🔒 ✅ ✅ 🔒 ✅ 🔒 🔒 🔒 🔒 🔒 \n",
            "\n",
            "Elige un cofre para abrir (1-10): 6\n",
            "✅ Cofre vacío. Continúa...\n",
            "\n",
            "\n",
            "Estado de los cofres:\n",
            "🔒 ✅ ✅ 🔒 ✅ ✅ 🔒 🔒 🔒 🔒 \n",
            "\n",
            "Elige un cofre para abrir (1-10): 7\n",
            "✅ Cofre vacío. Continúa...\n",
            "\n",
            "\n",
            "Estado de los cofres:\n",
            "🔒 ✅ ✅ 🔒 ✅ ✅ ✅ 🔒 🔒 🔒 \n",
            "\n",
            "Elige un cofre para abrir (1-10): 9\n",
            "✅ Cofre vacío. Continúa...\n",
            "\n",
            "\n",
            "Estado de los cofres:\n",
            "🔒 ✅ ✅ 🔒 ✅ ✅ ✅ 🔒 ✅ 🔒 \n",
            "\n",
            "Elige un cofre para abrir (1-10): 1\n",
            "✅ Cofre vacío. Continúa...\n",
            "\n",
            "\n",
            "Estado de los cofres:\n",
            "✅ ✅ ✅ 🔒 ✅ ✅ ✅ 🔒 ✅ 🔒 \n",
            "\n",
            "Elige un cofre para abrir (1-10): 4\n",
            "✅ Cofre vacío. Continúa...\n",
            "\n",
            "\n",
            "Estado de los cofres:\n",
            "✅ ✅ ✅ ✅ ✅ ✅ ✅ 🔒 ✅ 🔒 \n",
            "\n",
            "Elige un cofre para abrir (1-10): 10\n",
            "\n",
            "Estado de los cofres:\n",
            "✅ ✅ ✅ ✅ ✅ ✅ ✅ 🔒 ✅ 💥 \n",
            "\n",
            "💥 ¡BOOM! Abriste el cofre trampa. ¡Has perdido!\n"
          ]
        }
      ]
    },
    {
      "cell_type": "markdown",
      "source": [
        "**Ejercicio 6: Pociones mágicas (Funciones básicas)**\n",
        "\n",
        "Crea una función usar_pocion(tipo) que permita al jugador elegir entre 'vida', 'fuerza' o 'velocidad', y retorne el efecto de la poción.\n",
        "Luego, pide al usuario que elija una poción y muestra el resultado llamando a la función."
      ],
      "metadata": {
        "id": "94yOz-rKV2gp"
      }
    },
    {
      "cell_type": "code",
      "source": [
        "## INICIO DE CÓDIGO\n",
        "def usar_pocion(tipo):\n",
        "    \"\"\"\n",
        "    Retorna el efecto de la poción según el tipo elegido.\n",
        "    Parámetro:\n",
        "        tipo (str): tipo de poción ('vida', 'fuerza', 'velocidad')\n",
        "    Retorna:\n",
        "        str: descripción del efecto\n",
        "    \"\"\"\n",
        "    tipo = tipo.lower()  # Asegura que se pueda ingresar en mayúsculas o minúsculas\n",
        "\n",
        "    if tipo == \"vida\":\n",
        "        return \"✨ Has recuperado 50 puntos de vida.\"\n",
        "    elif tipo == \"fuerza\":\n",
        "        return \"💪 Tu fuerza ha aumentado temporalmente.\"\n",
        "    elif tipo == \"velocidad\":\n",
        "        return \"⚡ Ahora te mueves el doble de rápido.\"\n",
        "    else:\n",
        "        return \"❌ Tipo de poción no válido.\"\n",
        "\n",
        "def main():\n",
        "    print(\"🧪 Bienvenido al laboratorio de pociones mágicas.\")\n",
        "    print(\"Puedes elegir una de las siguientes pociones: vida, fuerza o velocidad.\\n\")\n",
        "\n",
        "    eleccion = input(\"¿Qué poción quieres usar? → \").strip()\n",
        "\n",
        "    efecto = usar_pocion(eleccion)\n",
        "\n",
        "    print(\"\\n\" + efecto)\n",
        "\n",
        "# Ejecutar el programa\n",
        "if __name__ == \"__main__\":\n",
        "    main()\n",
        "\n",
        "## FIN DE CÓDIGO"
      ],
      "metadata": {
        "id": "NQKm0w5iV4Zz",
        "outputId": "fe00fe00-f1fa-48c0-f66d-b417558d869f",
        "colab": {
          "base_uri": "https://localhost:8080/"
        }
      },
      "execution_count": 39,
      "outputs": [
        {
          "output_type": "stream",
          "name": "stdout",
          "text": [
            "🧪 Bienvenido al laboratorio de pociones mágicas.\n",
            "Puedes elegir una de las siguientes pociones: vida, fuerza o velocidad.\n",
            "\n",
            "¿Qué poción quieres usar? → fuerza\n",
            "\n",
            "💪 Tu fuerza ha aumentado temporalmente.\n"
          ]
        }
      ]
    },
    {
      "cell_type": "markdown",
      "source": [
        "**Ejercicio 7: Calculadora de daño crítico (Funciones con parámetros)**\n",
        "\n",
        "Crea una función calcular_danio(base, critico) que reciba el daño base y un porcentaje de crítico, devolviendo el daño total.\n",
        "El usuario ingresará el daño base y el porcentaje crítico."
      ],
      "metadata": {
        "id": "Qdnbnm4nV44h"
      }
    },
    {
      "cell_type": "code",
      "source": [
        "## INICIO DE CÓDIGO\n",
        "def calcular_danio(base, critico):\n",
        "    \"\"\"\n",
        "    Calcula el daño total con bonificación de crítico.\n",
        "\n",
        "    Parámetros:\n",
        "        base (float): Daño base del ataque.\n",
        "        critico (float): Porcentaje adicional de daño por crítico.\n",
        "\n",
        "    Retorna:\n",
        "        float: Daño total resultante.\n",
        "    \"\"\"\n",
        "    return base + (base * critico / 100)\n",
        "\n",
        "def pedir_float(mensaje):\n",
        "    \"\"\"\n",
        "    Solicita al usuario un número decimal positivo y lo valida.\n",
        "\n",
        "    Parámetro:\n",
        "        mensaje (str): Texto que se muestra al pedir el número.\n",
        "\n",
        "    Retorna:\n",
        "        float: Número ingresado por el usuario.\n",
        "    \"\"\"\n",
        "    while True:\n",
        "        try:\n",
        "            valor = float(input(mensaje))\n",
        "            if valor < 0:\n",
        "                print(\"⚠️ El número debe ser positivo. Intenta de nuevo.\")\n",
        "                continue\n",
        "            return valor\n",
        "        except ValueError:\n",
        "            print(\"⚠️ Entrada inválida. Ingresa un número válido.\")\n",
        "\n",
        "def main():\n",
        "    \"\"\"\n",
        "    Función principal que coordina la calculadora de daño crítico.\n",
        "    \"\"\"\n",
        "    print(\"💥 CALCULADORA DE DAÑO CRÍTICO 💥\")\n",
        "    print(\"Calcula el daño total de un ataque con bonificación de crítico.\\n\")\n",
        "\n",
        "    base = pedir_float(\"Ingresa el daño base: \")\n",
        "    critico = pedir_float(\"Ingresa el porcentaje de crítico (%): \")\n",
        "\n",
        "    total = calcular_danio(base, critico)\n",
        "\n",
        "    print(f\"\\n🔹 Daño base: {base:.2f}\")\n",
        "    print(f\"🔸 Crítico aplicado: {critico:.2f}%\")\n",
        "    print(f\"✅ Daño total: {total:.2f} puntos\")\n",
        "\n",
        "# Ejecutar el programa\n",
        "if __name__ == \"__main__\":\n",
        "    main()\n",
        "\n",
        "## FIN DE CÓDIGO"
      ],
      "metadata": {
        "id": "leaLQJWrV8Tx",
        "outputId": "10e94775-f209-4639-8d58-9d89f158fce8",
        "colab": {
          "base_uri": "https://localhost:8080/"
        }
      },
      "execution_count": 43,
      "outputs": [
        {
          "output_type": "stream",
          "name": "stdout",
          "text": [
            "💥 CALCULADORA DE DAÑO CRÍTICO 💥\n",
            "Calcula el daño total de un ataque con bonificación de crítico.\n",
            "\n",
            "Ingresa el daño base: 30.3\n",
            "Ingresa el porcentaje de crítico (%): 20%\n",
            "⚠️ Entrada inválida. Ingresa un número válido.\n",
            "Ingresa el porcentaje de crítico (%): 20\n",
            "\n",
            "🔹 Daño base: 30.30\n",
            "🔸 Crítico aplicado: 20.00%\n",
            "✅ Daño total: 36.36 puntos\n"
          ]
        }
      ]
    },
    {
      "cell_type": "markdown",
      "source": [
        "**Ejercicio 8: El desafío del dragón (Condicionales + funciones + bucles)**\n",
        "\n",
        "Diseña una función enfrentar_dragon(vida, fuerza) que simule el combate:\n",
        "\n",
        "* El jugador ataca al dragón y el dragón contraataca restando vida.\n",
        "\n",
        "* Si la vida llega a 0, el jugador pierde.\n",
        "\n",
        "* Si el jugador realiza 3 ataques consecutivos sin morir, gana.\n",
        "Usa un bucle while interno para el combate."
      ],
      "metadata": {
        "id": "d4j1ckE2V9ag"
      }
    },
    {
      "cell_type": "code",
      "source": [
        "## INICIO DE CÓDIGO\n",
        "import random\n",
        "\n",
        "def enfrentar_dragon(vida, fuerza):\n",
        "    \"\"\"\n",
        "    Simula el combate entre el jugador y un dragón.\n",
        "\n",
        "    El jugador debe realizar 3 ataques exitosos sin que su vida llegue a 0.\n",
        "    En cada ronda, el jugador ataca y luego el dragón contraataca.\n",
        "\n",
        "    Parámetros:\n",
        "        vida (int): Vida inicial del jugador.\n",
        "        fuerza (int): Daño que inflige el jugador por ataque.\n",
        "    \"\"\"\n",
        "    print(\"\\n🔥 ¡El combate comienza! 🔥\")\n",
        "    ataques_exitosos = 0\n",
        "\n",
        "    while ataques_exitosos < 3 and vida > 0:\n",
        "        print(f\"\\n🗡️ Turno de ataque #{ataques_exitosos + 1}\")\n",
        "        print(f\"➡️ Atacas al dragón y le causas {fuerza} de daño.\")\n",
        "\n",
        "        # El dragón contraataca con un daño aleatorio entre 10 y 25\n",
        "        dano_recibido = random.randint(10, 25)\n",
        "        vida -= dano_recibido\n",
        "\n",
        "        print(f\"🐉 El dragón te contraataca y te causa {dano_recibido} de daño.\")\n",
        "\n",
        "        if vida > 0:\n",
        "            ataques_exitosos += 1\n",
        "            print(f\"💖 Te quedan {vida} puntos de vida.\")\n",
        "        else:\n",
        "            print(\"💀 ¡Has caído en combate!\")\n",
        "\n",
        "    # Resultado final\n",
        "    if ataques_exitosos == 3:\n",
        "        print(\"\\n🏆 ¡Victoria! Sobreviviste a los 3 ataques del dragón.\")\n",
        "    else:\n",
        "        print(\"\\n☠️ El dragón te derrotó. Intenta de nuevo.\")\n",
        "\n",
        "def pedir_entero_positivo(mensaje):\n",
        "    \"\"\"\n",
        "    Solicita al usuario un número entero positivo con validación.\n",
        "\n",
        "    Parámetro:\n",
        "        mensaje (str): Mensaje que se muestra al pedir el dato.\n",
        "    Retorna:\n",
        "        int: Número positivo ingresado por el usuario.\n",
        "    \"\"\"\n",
        "    while True:\n",
        "        try:\n",
        "            valor = int(input(mensaje))\n",
        "            if valor <= 0:\n",
        "                print(\"⚠️ Por favor, ingresa un número mayor que cero.\")\n",
        "                continue\n",
        "            return valor\n",
        "        except ValueError:\n",
        "            print(\"⚠️ Entrada inválida. Debes ingresar un número entero.\")\n",
        "\n",
        "def main():\n",
        "    \"\"\"\n",
        "    Función principal que inicia el desafío del dragón.\n",
        "    \"\"\"\n",
        "    print(\"🐲 DESAFÍO DEL DRAGÓN 🐲\")\n",
        "    print(\"Tu misión: sobrevivir a 3 ataques del dragón.\\n\")\n",
        "\n",
        "    vida = pedir_entero_positivo(\"Ingresa tu vida inicial: \")\n",
        "    fuerza = pedir_entero_positivo(\"Ingresa tu fuerza de ataque: \")\n",
        "\n",
        "    enfrentar_dragon(vida, fuerza)\n",
        "\n",
        "# Ejecutar el programa\n",
        "if __name__ == \"__main__\":\n",
        "    main()\n",
        "\n",
        "## FIN DE CÓDIGO"
      ],
      "metadata": {
        "id": "_CGyWwuaWByi",
        "outputId": "f96e37fc-3f0a-4875-94bb-05f1f06a904e",
        "colab": {
          "base_uri": "https://localhost:8080/"
        }
      },
      "execution_count": 46,
      "outputs": [
        {
          "output_type": "stream",
          "name": "stdout",
          "text": [
            "🐲 DESAFÍO DEL DRAGÓN 🐲\n",
            "Tu misión: sobrevivir a 3 ataques del dragón.\n",
            "\n",
            "Ingresa tu vida inicial: 50\n",
            "Ingresa tu fuerza de ataque: 50\n",
            "\n",
            "🔥 ¡El combate comienza! 🔥\n",
            "\n",
            "🗡️ Turno de ataque #1\n",
            "➡️ Atacas al dragón y le causas 50 de daño.\n",
            "🐉 El dragón te contraataca y te causa 17 de daño.\n",
            "💖 Te quedan 33 puntos de vida.\n",
            "\n",
            "🗡️ Turno de ataque #2\n",
            "➡️ Atacas al dragón y le causas 50 de daño.\n",
            "🐉 El dragón te contraataca y te causa 15 de daño.\n",
            "💖 Te quedan 18 puntos de vida.\n",
            "\n",
            "🗡️ Turno de ataque #3\n",
            "➡️ Atacas al dragón y le causas 50 de daño.\n",
            "🐉 El dragón te contraataca y te causa 20 de daño.\n",
            "💀 ¡Has caído en combate!\n",
            "\n",
            "☠️ El dragón te derrotó. Intenta de nuevo.\n"
          ]
        }
      ]
    },
    {
      "cell_type": "markdown",
      "source": [
        "**Ejercicio 9: El camino del héroe (Recursividad sencilla)**\n",
        "\n",
        "Crea una función recursiva que simule el camino de un héroe cruzando N obstáculos, mostrando mensajes como:\n",
        "\n",
        "\"Obstáculo 3: saltando...\"\n",
        "\n",
        "Termina cuando N llegue a 0."
      ],
      "metadata": {
        "id": "8X5Y08fQWCFU"
      }
    },
    {
      "cell_type": "code",
      "source": [
        "## INICIO DE CÓDIGO\n",
        "def cruzar_obstaculos(n):\n",
        "    \"\"\"\n",
        "    Función recursiva que simula a un héroe cruzando obstáculos.\n",
        "\n",
        "    Parámetro:\n",
        "        n (int): número de obstáculos restantes\n",
        "    \"\"\"\n",
        "    if n == 0:\n",
        "        print(\"✅ ¡Todos los obstáculos han sido superados!\")\n",
        "        return\n",
        "    else:\n",
        "        print(f\"🧗 Obstáculo {n}: saltando...\")\n",
        "        cruzar_obstaculos(n - 1)\n",
        "\n",
        "def pedir_entero_positivo(mensaje):\n",
        "    \"\"\"\n",
        "    Solicita al usuario un número entero positivo con validación.\n",
        "\n",
        "    Parámetro:\n",
        "        mensaje (str): mensaje para el usuario\n",
        "\n",
        "    Retorna:\n",
        "        int: número positivo ingresado\n",
        "    \"\"\"\n",
        "    while True:\n",
        "        try:\n",
        "            valor = int(input(mensaje))\n",
        "            if valor <= 0:\n",
        "                print(\"⚠️ Por favor ingresa un número mayor que cero.\")\n",
        "                continue\n",
        "            return valor\n",
        "        except ValueError:\n",
        "            print(\"⚠️ Entrada inválida. Debes ingresar un número entero.\")\n",
        "\n",
        "def main():\n",
        "    \"\"\"\n",
        "    Función principal para iniciar el camino del héroe.\n",
        "    \"\"\"\n",
        "    print(\"🛤️ EL CAMINO DEL HÉROE 🛤️\")\n",
        "    print(\"El héroe debe cruzar todos los obstáculos uno por uno.\\n\")\n",
        "\n",
        "    total_obstaculos = pedir_entero_positivo(\"¿Cuántos obstáculos hay en el camino? \")\n",
        "\n",
        "    print(\"\\n🏃‍♂️ ¡El héroe comienza su viaje!\\n\")\n",
        "    cruzar_obstaculos(total_obstaculos)\n",
        "\n",
        "# Ejecutar el programa\n",
        "if __name__ == \"__main__\":\n",
        "    main()\n",
        "\n",
        "## FIN DE CÓDIGO"
      ],
      "metadata": {
        "id": "vVDjZHSVWJdQ",
        "outputId": "17ae44c9-9c05-4e96-f2a0-8d52afbda708",
        "colab": {
          "base_uri": "https://localhost:8080/"
        }
      },
      "execution_count": 50,
      "outputs": [
        {
          "output_type": "stream",
          "name": "stdout",
          "text": [
            "🛤️ EL CAMINO DEL HÉROE 🛤️\n",
            "El héroe debe cruzar todos los obstáculos uno por uno.\n",
            "\n",
            "¿Cuántos obstáculos hay en el camino? 13\n",
            "\n",
            "🏃‍♂️ ¡El héroe comienza su viaje!\n",
            "\n",
            "🧗 Obstáculo 13: saltando...\n",
            "🧗 Obstáculo 12: saltando...\n",
            "🧗 Obstáculo 11: saltando...\n",
            "🧗 Obstáculo 10: saltando...\n",
            "🧗 Obstáculo 9: saltando...\n",
            "🧗 Obstáculo 8: saltando...\n",
            "🧗 Obstáculo 7: saltando...\n",
            "🧗 Obstáculo 6: saltando...\n",
            "🧗 Obstáculo 5: saltando...\n",
            "🧗 Obstáculo 4: saltando...\n",
            "🧗 Obstáculo 3: saltando...\n",
            "🧗 Obstáculo 2: saltando...\n",
            "🧗 Obstáculo 1: saltando...\n",
            "✅ ¡Todos los obstáculos han sido superados!\n"
          ]
        }
      ]
    },
    {
      "cell_type": "markdown",
      "source": [
        "**Ejercicio 10: Torre de los hechizos (Reto Integrador Final)**\n",
        "\n",
        "Crea un programa completo que combine:\n",
        "\n",
        "* Elección de personaje.\n",
        "\n",
        "* Simulación de un combate contra un enemigo con vida y defensa.\n",
        "\n",
        "* Uso de funciones para calcular el daño.\n",
        "\n",
        "* Bucles para turnos de combate.\n",
        "\n",
        "* Uso de una función recursiva que simule las rondas como niveles (nivel 1, 2, 3 hasta ganar).\n",
        "\n"
      ],
      "metadata": {
        "id": "Behbpl_8WJzR"
      }
    },
    {
      "cell_type": "code",
      "source": [
        "## INICIO DE CÓDIGO\n",
        "import random\n",
        "\n",
        "# Diccionario de personajes disponibles\n",
        "personajes = {\n",
        "    \"mago\": {\"vida\": 100, \"ataque\": 25, \"defensa\": 10},\n",
        "    \"guerrero\": {\"vida\": 120, \"ataque\": 20, \"defensa\": 15},\n",
        "    \"arquero\": {\"vida\": 90, \"ataque\": 30, \"defensa\": 5}\n",
        "}\n",
        "\n",
        "# Función para elegir personaje\n",
        "def elegir_personaje():\n",
        "    print(\"=== ELECCIÓN DE PERSONAJE ===\")\n",
        "    print(\"Opciones disponibles:\")\n",
        "    for nombre in personajes:\n",
        "        print(f\"- {nombre.capitalize()}\")\n",
        "\n",
        "    while True:\n",
        "        eleccion = input(\"Elige tu personaje: \").lower()\n",
        "        if eleccion in personajes:\n",
        "            print(f\"\\nHas elegido a: {eleccion.capitalize()}\\n\")\n",
        "            return personajes[eleccion].copy()\n",
        "        else:\n",
        "            print(\"❌ Opción no válida. Intenta nuevamente.\")\n",
        "\n",
        "# Función para calcular el daño\n",
        "def calcular_dano(ataque, defensa_objetivo):\n",
        "    dano_base = ataque - defensa_objetivo\n",
        "    dano_final = max(5, dano_base + random.randint(-3, 3))  # Daño mínimo garantizado\n",
        "    return dano_final\n",
        "\n",
        "# Función de combate\n",
        "def combate(jugador, enemigo):\n",
        "    turno = 1\n",
        "    print(\"=== ¡COMBATE INICIADO! ===\")\n",
        "\n",
        "    while jugador[\"vida\"] > 0 and enemigo[\"vida\"] > 0:\n",
        "        print(f\"\\n--- Turno {turno} ---\")\n",
        "\n",
        "        # Turno del jugador\n",
        "        dano_jugador = calcular_dano(jugador[\"ataque\"], enemigo[\"defensa\"])\n",
        "        enemigo[\"vida\"] -= dano_jugador\n",
        "        print(f\"🔹 Atacas al enemigo y causas {dano_jugador} de daño.\")\n",
        "        print(f\"🛡 Vida del enemigo: {max(0, enemigo['vida'])}\")\n",
        "\n",
        "        if enemigo[\"vida\"] <= 0:\n",
        "            print(\"✅ ¡Has derrotado al enemigo!\")\n",
        "            return True\n",
        "\n",
        "        # Turno del enemigo\n",
        "        dano_enemigo = calcular_dano(enemigo[\"ataque\"], jugador[\"defensa\"])\n",
        "        jugador[\"vida\"] -= dano_enemigo\n",
        "        print(f\"🔸 El enemigo te ataca y causa {dano_enemigo} de daño.\")\n",
        "        print(f\"❤️ Tu vida: {max(0, jugador['vida'])}\")\n",
        "\n",
        "        if jugador[\"vida\"] <= 0:\n",
        "            print(\"❌ Has sido derrotado...\")\n",
        "            return False\n",
        "\n",
        "        turno += 1\n",
        "\n",
        "# Función recursiva para los niveles\n",
        "def jugar_nivel(jugador, nivel=1):\n",
        "    print(f\"\\n🏰 NIVEL {nivel}: Entras a la Torre de los Hechizos...\")\n",
        "\n",
        "    enemigo = {\n",
        "        \"vida\": 60 + (nivel * 20),\n",
        "        \"ataque\": 15 + (nivel * 2),\n",
        "        \"defensa\": 5 + nivel\n",
        "    }\n",
        "\n",
        "    victoria = combate(jugador, enemigo)\n",
        "\n",
        "    if victoria:\n",
        "        if nivel == 3:\n",
        "            print(\"\\n🎉 ¡Has completado todos los niveles de la Torre de los Hechizos! ¡Felicidades!\")\n",
        "        else:\n",
        "            print(f\"\\n✨ Avanzas al siguiente nivel...\\n\")\n",
        "            jugador[\"vida\"] += 30  # Recupera algo de vida para el siguiente nivel\n",
        "            jugar_nivel(jugador, nivel + 1)\n",
        "    else:\n",
        "        return False  # Se usa para el manejo de intentos\n",
        "\n",
        "# Función principal con contador de intentos\n",
        "def main():\n",
        "    intentos_maximos = 3\n",
        "    intentos = 0\n",
        "\n",
        "    print(\"====================================\")\n",
        "    print(\"🌟 BIENVENIDO A LA TORRE DE LOS HECHIZOS 🌟\")\n",
        "    print(\"Debes superar 3 niveles. Tienes 3 intentos máximos.\\n\")\n",
        "\n",
        "    while intentos < intentos_maximos:\n",
        "        jugador = elegir_personaje()\n",
        "        resultado = jugar_nivel(jugador)\n",
        "\n",
        "        if resultado is not False:\n",
        "            break  # Salir del juego si gana\n",
        "        else:\n",
        "            intentos += 1\n",
        "            intentos_restantes = intentos_maximos - intentos\n",
        "            if intentos_restantes > 0:\n",
        "                print(f\"\\n⚠️ Te quedan {intentos_restantes} intento(s). ¡Inténtalo de nuevo!\\n\")\n",
        "            else:\n",
        "                print(\"\\n💀 Has agotado todos tus intentos. ¡Fin del juego!\")\n",
        "\n",
        "# Ejecutar el juego\n",
        "main()\n",
        "\n",
        "## FIN DE CÓDIGO"
      ],
      "metadata": {
        "id": "smtLq1SDWTJd",
        "outputId": "2ebda40f-0a59-4c8f-860a-c12a5c3544fe",
        "colab": {
          "base_uri": "https://localhost:8080/"
        }
      },
      "execution_count": 53,
      "outputs": [
        {
          "output_type": "stream",
          "name": "stdout",
          "text": [
            "====================================\n",
            "🌟 BIENVENIDO A LA TORRE DE LOS HECHIZOS 🌟\n",
            "Debes superar 3 niveles. Tienes 3 intentos máximos.\n",
            "\n",
            "=== ELECCIÓN DE PERSONAJE ===\n",
            "Opciones disponibles:\n",
            "- Mago\n",
            "- Guerrero\n",
            "- Arquero\n",
            "Elige tu personaje: Arquero\n",
            "\n",
            "Has elegido a: Arquero\n",
            "\n",
            "\n",
            "🏰 NIVEL 1: Entras a la Torre de los Hechizos...\n",
            "=== ¡COMBATE INICIADO! ===\n",
            "\n",
            "--- Turno 1 ---\n",
            "🔹 Atacas al enemigo y causas 24 de daño.\n",
            "🛡 Vida del enemigo: 56\n",
            "🔸 El enemigo te ataca y causa 13 de daño.\n",
            "❤️ Tu vida: 77\n",
            "\n",
            "--- Turno 2 ---\n",
            "🔹 Atacas al enemigo y causas 24 de daño.\n",
            "🛡 Vida del enemigo: 32\n",
            "🔸 El enemigo te ataca y causa 9 de daño.\n",
            "❤️ Tu vida: 68\n",
            "\n",
            "--- Turno 3 ---\n",
            "🔹 Atacas al enemigo y causas 24 de daño.\n",
            "🛡 Vida del enemigo: 8\n",
            "🔸 El enemigo te ataca y causa 15 de daño.\n",
            "❤️ Tu vida: 53\n",
            "\n",
            "--- Turno 4 ---\n",
            "🔹 Atacas al enemigo y causas 26 de daño.\n",
            "🛡 Vida del enemigo: 0\n",
            "✅ ¡Has derrotado al enemigo!\n",
            "\n",
            "✨ Avanzas al siguiente nivel...\n",
            "\n",
            "\n",
            "🏰 NIVEL 2: Entras a la Torre de los Hechizos...\n",
            "=== ¡COMBATE INICIADO! ===\n",
            "\n",
            "--- Turno 1 ---\n",
            "🔹 Atacas al enemigo y causas 23 de daño.\n",
            "🛡 Vida del enemigo: 77\n",
            "🔸 El enemigo te ataca y causa 12 de daño.\n",
            "❤️ Tu vida: 71\n",
            "\n",
            "--- Turno 2 ---\n",
            "🔹 Atacas al enemigo y causas 22 de daño.\n",
            "🛡 Vida del enemigo: 55\n",
            "🔸 El enemigo te ataca y causa 15 de daño.\n",
            "❤️ Tu vida: 56\n",
            "\n",
            "--- Turno 3 ---\n",
            "🔹 Atacas al enemigo y causas 20 de daño.\n",
            "🛡 Vida del enemigo: 35\n",
            "🔸 El enemigo te ataca y causa 12 de daño.\n",
            "❤️ Tu vida: 44\n",
            "\n",
            "--- Turno 4 ---\n",
            "🔹 Atacas al enemigo y causas 22 de daño.\n",
            "🛡 Vida del enemigo: 13\n",
            "🔸 El enemigo te ataca y causa 12 de daño.\n",
            "❤️ Tu vida: 32\n",
            "\n",
            "--- Turno 5 ---\n",
            "🔹 Atacas al enemigo y causas 21 de daño.\n",
            "🛡 Vida del enemigo: 0\n",
            "✅ ¡Has derrotado al enemigo!\n",
            "\n",
            "✨ Avanzas al siguiente nivel...\n",
            "\n",
            "\n",
            "🏰 NIVEL 3: Entras a la Torre de los Hechizos...\n",
            "=== ¡COMBATE INICIADO! ===\n",
            "\n",
            "--- Turno 1 ---\n",
            "🔹 Atacas al enemigo y causas 21 de daño.\n",
            "🛡 Vida del enemigo: 99\n",
            "🔸 El enemigo te ataca y causa 14 de daño.\n",
            "❤️ Tu vida: 48\n",
            "\n",
            "--- Turno 2 ---\n",
            "🔹 Atacas al enemigo y causas 22 de daño.\n",
            "🛡 Vida del enemigo: 77\n",
            "🔸 El enemigo te ataca y causa 19 de daño.\n",
            "❤️ Tu vida: 29\n",
            "\n",
            "--- Turno 3 ---\n",
            "🔹 Atacas al enemigo y causas 22 de daño.\n",
            "🛡 Vida del enemigo: 55\n",
            "🔸 El enemigo te ataca y causa 16 de daño.\n",
            "❤️ Tu vida: 13\n",
            "\n",
            "--- Turno 4 ---\n",
            "🔹 Atacas al enemigo y causas 20 de daño.\n",
            "🛡 Vida del enemigo: 35\n",
            "🔸 El enemigo te ataca y causa 18 de daño.\n",
            "❤️ Tu vida: 0\n",
            "❌ Has sido derrotado...\n"
          ]
        }
      ]
    },
    {
      "cell_type": "markdown",
      "source": [
        "---\n",
        "\n",
        "# Gracias por completar este laboratorio!\n",
        "\n",
        "---\n"
      ],
      "metadata": {
        "id": "EONqoa25Wlx3"
      }
    }
  ]
}