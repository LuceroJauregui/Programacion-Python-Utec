{
  "nbformat": 4,
  "nbformat_minor": 0,
  "metadata": {
    "colab": {
      "provenance": [],
      "authorship_tag": "ABX9TyNWkEFzjT6gbagSYxjT6n0t",
      "include_colab_link": true
    },
    "kernelspec": {
      "name": "python3",
      "display_name": "Python 3"
    },
    "language_info": {
      "name": "python"
    }
  },
  "cells": [
    {
      "cell_type": "markdown",
      "metadata": {
        "id": "view-in-github",
        "colab_type": "text"
      },
      "source": [
        "<a href=\"https://colab.research.google.com/github/LuceroJauregui/Programacion-Python-Utec/blob/main/temp/Archivo-Prueba.ipynb\" target=\"_parent\"><img src=\"https://colab.research.google.com/assets/colab-badge.svg\" alt=\"Open In Colab\"/></a>"
      ]
    },
    {
      "cell_type": "code",
      "execution_count": 1,
      "metadata": {
        "id": "gOdJvw4j-5mo",
        "colab": {
          "base_uri": "https://localhost:8080/"
        },
        "outputId": "52883dc4-8613-4899-94cb-be86113498e6"
      },
      "outputs": [
        {
          "output_type": "execute_result",
          "data": {
            "text/plain": [
              "float"
            ]
          },
          "metadata": {},
          "execution_count": 1
        }
      ],
      "source": [
        "type (0.23)"
      ]
    },
    {
      "cell_type": "markdown",
      "source": [
        "Prueba\n"
      ],
      "metadata": {
        "id": "oDuHJYaFBBDQ"
      }
    }
  ]
}